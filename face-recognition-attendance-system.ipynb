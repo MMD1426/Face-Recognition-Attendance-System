{
 "cells": [
  {
   "cell_type": "code",
   "execution_count": 1,
   "metadata": {},
   "outputs": [],
   "source": [
    "import face_recognition\n",
    "import cv2\n",
    "import os\n",
    "import pickle\n",
    "import numpy as np\n",
    "import time\n",
    "import pandas as pd\n",
    "from csv import writer"
   ]
  },
  {
   "cell_type": "code",
   "execution_count": 2,
   "metadata": {},
   "outputs": [],
   "source": [
    "folderpath = 'Faces'\n",
    "filepath = os.listdir(folderpath)\n",
    "\n",
    "img_list = []\n",
    "studentIds = []\n",
    "\n",
    "for path in filepath:\n",
    "    img_list.append(cv2.imread(os.path.join(folderpath, path)))\n",
    "    studentIds.append(os.path.splitext(path)[0])"
   ]
  },
  {
   "cell_type": "code",
   "execution_count": 3,
   "metadata": {},
   "outputs": [],
   "source": [
    "def findEncodings(ImagesList):\n",
    "    \n",
    "    encodeList = []\n",
    "    for img in ImagesList:\n",
    "        img = cv2.cvtColor(img, cv2.COLOR_BGR2RGB)\n",
    "        encode = face_recognition.face_encodings(img)[0]\n",
    "        encodeList.append(encode)\n",
    "\n",
    "    return encodeList"
   ]
  },
  {
   "cell_type": "code",
   "execution_count": 4,
   "metadata": {},
   "outputs": [
    {
     "name": "stdout",
     "output_type": "stream",
     "text": [
      "Start...\n",
      "Complete\n"
     ]
    }
   ],
   "source": [
    "print(\"Start...\")\n",
    "encodeListKnow = findEncodings(img_list)\n",
    "encodeListKnowWithIds = [encodeListKnow,studentIds]\n",
    "print(\"Complete\")\n"
   ]
  },
  {
   "cell_type": "code",
   "execution_count": 5,
   "metadata": {},
   "outputs": [],
   "source": [
    "file = open('EncodingFile.p','wb')\n",
    "pickle.dump(encodeListKnowWithIds,file)\n",
    "file.close()"
   ]
  },
  {
   "cell_type": "code",
   "execution_count": 6,
   "metadata": {},
   "outputs": [],
   "source": [
    "file = open('EncodingFile.p','rb')\n",
    "encodeListKnowWithIds = pickle.load(file)\n",
    "file.close()"
   ]
  },
  {
   "cell_type": "code",
   "execution_count": 7,
   "metadata": {},
   "outputs": [],
   "source": [
    "encodeListKnow , studentIds = encodeListKnowWithIds"
   ]
  },
  {
   "cell_type": "code",
   "execution_count": 8,
   "metadata": {},
   "outputs": [],
   "source": [
    "df = pd.read_csv('Attendance.csv')\n",
    "index_csv = df['Index']\n",
    "name_csv = df['Name']\n",
    "date_csv = df['Date']\n",
    "time_csv = df['Time']"
   ]
  },
  {
   "cell_type": "code",
   "execution_count": 9,
   "metadata": {},
   "outputs": [],
   "source": [
    "while True:\n",
    "    cap = cv2.VideoCapture(0)\n",
    "    ret,frame = cap.read()\n",
    "\n",
    "    imgS = cv2.resize(frame,(0,0),None,0.5,0.5)\n",
    "    imgS = cv2.cvtColor(imgS,cv2.COLOR_BGR2RGB)\n",
    "\n",
    "\n",
    "    faceCurFrame = face_recognition.face_locations(imgS)\n",
    "    encodeCurFrame = face_recognition.face_encodings(imgS,faceCurFrame)\n",
    "\n",
    "    for encodeFace,faceLoc in zip(encodeCurFrame,faceCurFrame):\n",
    "        matches = face_recognition.compare_faces(encodeListKnow,encodeFace)\n",
    "        faceDis = face_recognition.face_distance(encodeListKnow,encodeFace)\n",
    "        matcheIndex = np.argmin(faceDis)\n",
    "\n",
    "    \n",
    "        if matches[matcheIndex]:\n",
    "            index_csv = matcheIndex\n",
    "            name_csv = studentIds[matcheIndex]\n",
    "            date_csv = time.strftime(\"%d/%m/%Y\")\n",
    "            time_csv = time.strftime(\"%H:%M:%S\")\n",
    "            list = [index_csv,name_csv,date_csv,time_csv]\n",
    "            \n",
    "            with open('Attendance.csv', 'a') as f_object:\n",
    "                writer_object = writer(f_object)\n",
    "                writer_object.writerow(list)\n",
    "                f_object.close()\n",
    "\n",
    "\n",
    "    cv2.imshow(\"face-reconition\",frame)\n",
    "\n",
    "    if cv2.waitKey(1) & 0xFF == ord('q'):\n",
    "        break\n",
    "\n",
    "cap.release()\n",
    "cv2.destroyAllWindows()"
   ]
  }
 ],
 "metadata": {
  "kernelspec": {
   "display_name": "Python 3",
   "language": "python",
   "name": "python3"
  },
  "language_info": {
   "codemirror_mode": {
    "name": "ipython",
    "version": 3
   },
   "file_extension": ".py",
   "mimetype": "text/x-python",
   "name": "python",
   "nbconvert_exporter": "python",
   "pygments_lexer": "ipython3",
   "version": "3.8.1"
  }
 },
 "nbformat": 4,
 "nbformat_minor": 2
}
